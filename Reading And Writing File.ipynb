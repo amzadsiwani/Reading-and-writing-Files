{
 "cells": [
  {
   "cell_type": "code",
   "execution_count": 1,
   "id": "e23c6454-7c94-45bb-9143-2bb19e650b17",
   "metadata": {},
   "outputs": [],
   "source": [
    "data = {\n",
    "    \"name\" : \"amzd\",\n",
    "    \"mail_id\": \"amd@gmail.com\",\n",
    "    \"phone number\": 9875464575,\n",
    "    \"subject\": [\"data science\",\"big data\",\"data analytics\"]\n",
    "}"
   ]
  },
  {
   "cell_type": "code",
   "execution_count": 2,
   "id": "feb37576-1a94-4850-a091-8dab8edeb677",
   "metadata": {},
   "outputs": [],
   "source": [
    "import json"
   ]
  },
  {
   "cell_type": "code",
   "execution_count": 3,
   "id": "02a9128f-4640-4b94-8cbc-8a1849724261",
   "metadata": {},
   "outputs": [],
   "source": [
    "with open(\"data.json\", \"w\") as f:\n",
    "    json.dump(data, f)"
   ]
  },
  {
   "cell_type": "code",
   "execution_count": 4,
   "id": "7925b298-e4e1-40af-b622-1f4315780933",
   "metadata": {},
   "outputs": [],
   "source": [
    "with open(\"data.json\", \"r\") as f:\n",
    "    data1 = json.load(f)"
   ]
  },
  {
   "cell_type": "code",
   "execution_count": 5,
   "id": "59adafe5-ae18-41d0-81a5-1a141fbd7115",
   "metadata": {},
   "outputs": [
    {
     "data": {
      "text/plain": [
       "{'name': 'amzd',\n",
       " 'mail_id': 'amd@gmail.com',\n",
       " 'phone number': 9875464575,\n",
       " 'subject': ['data science', 'big data', 'data analytics']}"
      ]
     },
     "execution_count": 5,
     "metadata": {},
     "output_type": "execute_result"
    }
   ],
   "source": [
    "data1"
   ]
  },
  {
   "cell_type": "code",
   "execution_count": 7,
   "id": "250c7868-84ee-4cd8-bf9a-ecaecdd0a05e",
   "metadata": {},
   "outputs": [
    {
     "data": {
      "text/plain": [
       "'big data'"
      ]
     },
     "execution_count": 7,
     "metadata": {},
     "output_type": "execute_result"
    }
   ],
   "source": [
    "data1['subject'][1]"
   ]
  },
  {
   "cell_type": "code",
   "execution_count": 8,
   "id": "22f9c63e-8993-4d04-bb07-e01566e3795f",
   "metadata": {},
   "outputs": [],
   "source": [
    "import csv"
   ]
  },
  {
   "cell_type": "code",
   "execution_count": 12,
   "id": "c30a65bd-8d51-4e52-b11c-d41696ec2861",
   "metadata": {},
   "outputs": [],
   "source": [
    "data = [[\"name\", \"email_id\", \"phone_number\"],\n",
    "        [\"sdmh\",\"sdm@gmail.com\", 9658532354],\n",
    "        \n",
    "        [\"amzd\", \"amd@gmail.com\", 9857412364]\n",
    "]"
   ]
  },
  {
   "cell_type": "code",
   "execution_count": 17,
   "id": "68e1dbb9-ae0f-4a89-b217-881f9c82aa71",
   "metadata": {},
   "outputs": [],
   "source": [
    "with open(\"data.csv\", \"w\") as f :\n",
    "    writer = csv.writer(f)\n",
    "    \n",
    "    \n",
    "    for i in data:\n",
    "        writer.writerow(i)"
   ]
  },
  {
   "cell_type": "code",
   "execution_count": 18,
   "id": "54398d20-bcbb-4025-a008-0049acaa0393",
   "metadata": {},
   "outputs": [
    {
     "name": "stdout",
     "output_type": "stream",
     "text": [
      "['name', 'email_id', 'phone_number']\n",
      "['sdmh', 'sdm@gmail.com', '9658532354']\n",
      "['amzd', 'amd@gmail.com', '9857412364']\n"
     ]
    }
   ],
   "source": [
    "with open (\"data.csv\", \"r\") as f:\n",
    "    read_data = csv.reader(f)\n",
    "    \n",
    "    for i in read_data:\n",
    "        print(i)"
   ]
  },
  {
   "cell_type": "code",
   "execution_count": 20,
   "id": "ea48a9c1-c2d7-4357-b798-666a1a54782b",
   "metadata": {},
   "outputs": [],
   "source": [
    "with open(\"test4.bin\", \"wb\") as f :\n",
    "    f.write(b\"\\x01\\x02\\x03\\x3454235\")"
   ]
  },
  {
   "cell_type": "code",
   "execution_count": null,
   "id": "46ab6f4c-5d54-45f7-9c26-9179947fd230",
   "metadata": {},
   "outputs": [],
   "source": [
    "with open(\"test4.bin\", \"\")"
   ]
  }
 ],
 "metadata": {
  "kernelspec": {
   "display_name": "Python 3 (ipykernel)",
   "language": "python",
   "name": "python3"
  },
  "language_info": {
   "codemirror_mode": {
    "name": "ipython",
    "version": 3
   },
   "file_extension": ".py",
   "mimetype": "text/x-python",
   "name": "python",
   "nbconvert_exporter": "python",
   "pygments_lexer": "ipython3",
   "version": "3.10.8"
  }
 },
 "nbformat": 4,
 "nbformat_minor": 5
}
